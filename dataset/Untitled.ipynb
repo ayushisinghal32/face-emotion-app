{
 "cells": [
  {
   "cell_type": "code",
   "execution_count": 1,
   "metadata": {},
   "outputs": [],
   "source": [
    "import pandas as pd"
   ]
  },
  {
   "cell_type": "code",
   "execution_count": 7,
   "metadata": {},
   "outputs": [],
   "source": [
    "df  = pd.read_csv('./emotions_prepare.csv')"
   ]
  },
  {
   "cell_type": "code",
   "execution_count": 8,
   "metadata": {},
   "outputs": [
    {
     "data": {
      "text/plain": [
       "(1, 2306)"
      ]
     },
     "execution_count": 8,
     "metadata": {},
     "output_type": "execute_result"
    }
   ],
   "source": [
    "df.shape"
   ]
  },
  {
   "cell_type": "code",
   "execution_count": 9,
   "metadata": {},
   "outputs": [
    {
     "data": {
      "text/html": [
       "<div>\n",
       "<style scoped>\n",
       "    .dataframe tbody tr th:only-of-type {\n",
       "        vertical-align: middle;\n",
       "    }\n",
       "\n",
       "    .dataframe tbody tr th {\n",
       "        vertical-align: top;\n",
       "    }\n",
       "\n",
       "    .dataframe thead th {\n",
       "        text-align: right;\n",
       "    }\n",
       "</style>\n",
       "<table border=\"1\" class=\"dataframe\">\n",
       "  <thead>\n",
       "    <tr style=\"text-align: right;\">\n",
       "      <th></th>\n",
       "      <th>150</th>\n",
       "      <th>150.1</th>\n",
       "      <th>150.2</th>\n",
       "      <th>150.3</th>\n",
       "      <th>150.4</th>\n",
       "      <th>150.5</th>\n",
       "      <th>150.6</th>\n",
       "      <th>150.7</th>\n",
       "      <th>150.8</th>\n",
       "      <th>150.9</th>\n",
       "      <th>...</th>\n",
       "      <th>150.327</th>\n",
       "      <th>150.328</th>\n",
       "      <th>150.329</th>\n",
       "      <th>150.330</th>\n",
       "      <th>150.331</th>\n",
       "      <th>150.332</th>\n",
       "      <th>150.333</th>\n",
       "      <th>150.334</th>\n",
       "      <th>6</th>\n",
       "      <th>Unnamed: 2305</th>\n",
       "    </tr>\n",
       "  </thead>\n",
       "  <tbody>\n",
       "    <tr>\n",
       "      <th>0</th>\n",
       "      <td>150</td>\n",
       "      <td>150</td>\n",
       "      <td>150</td>\n",
       "      <td>150</td>\n",
       "      <td>150</td>\n",
       "      <td>150</td>\n",
       "      <td>150</td>\n",
       "      <td>150</td>\n",
       "      <td>150</td>\n",
       "      <td>150</td>\n",
       "      <td>...</td>\n",
       "      <td>124</td>\n",
       "      <td>125</td>\n",
       "      <td>126</td>\n",
       "      <td>129</td>\n",
       "      <td>130</td>\n",
       "      <td>132</td>\n",
       "      <td>132</td>\n",
       "      <td>145</td>\n",
       "      <td>0</td>\n",
       "      <td>NaN</td>\n",
       "    </tr>\n",
       "  </tbody>\n",
       "</table>\n",
       "<p>1 rows × 2306 columns</p>\n",
       "</div>"
      ],
      "text/plain": [
       "   150  150.1  150.2  150.3  150.4  150.5  150.6  150.7  150.8  150.9  ...  \\\n",
       "0  150    150    150    150    150    150    150    150    150    150  ...   \n",
       "\n",
       "   150.327  150.328  150.329  150.330  150.331  150.332  150.333  150.334  6  \\\n",
       "0      124      125      126      129      130      132      132      145  0   \n",
       "\n",
       "   Unnamed: 2305  \n",
       "0            NaN  \n",
       "\n",
       "[1 rows x 2306 columns]"
      ]
     },
     "execution_count": 9,
     "metadata": {},
     "output_type": "execute_result"
    }
   ],
   "source": [
    "df"
   ]
  },
  {
   "cell_type": "code",
   "execution_count": null,
   "metadata": {},
   "outputs": [],
   "source": []
  }
 ],
 "metadata": {
  "kernelspec": {
   "display_name": "Python 3",
   "language": "python",
   "name": "python3"
  },
  "language_info": {
   "codemirror_mode": {
    "name": "ipython",
    "version": 3
   },
   "file_extension": ".py",
   "mimetype": "text/x-python",
   "name": "python",
   "nbconvert_exporter": "python",
   "pygments_lexer": "ipython3",
   "version": "3.7.4"
  }
 },
 "nbformat": 4,
 "nbformat_minor": 2
}
